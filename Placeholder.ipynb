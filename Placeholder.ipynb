{
  "nbformat": 4,
  "nbformat_minor": 0,
  "metadata": {
    "colab": {
      "provenance": [],
      "mount_file_id": "183r1IJ9lPEugDZweHUpehOUmqoUw4zIQ",
      "authorship_tag": "ABX9TyNIEyTMA36bbfBLATNIm4GD",
      "include_colab_link": true
    },
    "kernelspec": {
      "name": "python3",
      "display_name": "Python 3"
    },
    "language_info": {
      "name": "python"
    }
  },
  "cells": [
    {
      "cell_type": "markdown",
      "metadata": {
        "id": "view-in-github",
        "colab_type": "text"
      },
      "source": [
        "<a href=\"https://colab.research.google.com/github/ChaesongYun/Tensorflow/blob/main/Placeholder.ipynb\" target=\"_parent\"><img src=\"https://colab.research.google.com/assets/colab-badge.svg\" alt=\"Open In Colab\"/></a>"
      ]
    },
    {
      "cell_type": "code",
      "source": [
        "# placeholder: 학습 데이터를 포함하는 변수\n",
        "# tf.placeholder(dtype, shape, name)\n",
        "# dtype: 플레이스홀더에 저장되는 자료형\n",
        "# shape: 배열의 차원\n",
        "# name: 플레이스홀더의 이름을 의미\n",
        "\n",
        "import tensorflow.compat.v1 as tf\n",
        "tf.disable_v2_behavior()\n",
        "\n",
        "input = [1, 2, 3, 4, 5]\n",
        "\n",
        "x = tf.placeholder(dtype=tf.float32)\n",
        "y = x + 5\n",
        "\n",
        "sess = tf.Session()\n",
        "sess.run(y, feed_dict={x: input})\n"
      ],
      "metadata": {
        "colab": {
          "base_uri": "https://localhost:8080/"
        },
        "id": "BnDkVyxi_690",
        "outputId": "20b68e50-4279-4df1-cc64-9c232b87917c"
      },
      "execution_count": 7,
      "outputs": [
        {
          "output_type": "execute_result",
          "data": {
            "text/plain": [
              "array([ 6.,  7.,  8.,  9., 10.], dtype=float32)"
            ]
          },
          "metadata": {},
          "execution_count": 7
        }
      ]
    },
    {
      "cell_type": "code",
      "source": [
        "mathScore = [85, 99, 84, 97, 92]\n",
        "engScore = [59, 80, 84, 68, 77]\n",
        "a = tf.placeholder(dtype=tf.float32)\n",
        "b = tf.placeholder(dtype=tf.float32)\n",
        "y = (a+b)/2\n",
        "\n",
        "sess.run(y, feed_dict={a: mathScore, b:engScore})"
      ],
      "metadata": {
        "colab": {
          "base_uri": "https://localhost:8080/"
        },
        "id": "xmsYt3rJBNq-",
        "outputId": "56166df7-e65f-4bce-cecc-38345a1e5aac"
      },
      "execution_count": 12,
      "outputs": [
        {
          "output_type": "execute_result",
          "data": {
            "text/plain": [
              "array([72. , 89.5, 84. , 82.5, 84.5], dtype=float32)"
            ]
          },
          "metadata": {},
          "execution_count": 12
        }
      ]
    }
  ]
}