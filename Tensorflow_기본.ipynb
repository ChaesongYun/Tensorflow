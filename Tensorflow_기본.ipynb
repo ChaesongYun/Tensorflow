{
  "nbformat": 4,
  "nbformat_minor": 0,
  "metadata": {
    "colab": {
      "provenance": [],
      "mount_file_id": "1ND3-Yxp-3kqz2JdC404f3LPdlt_qBNsf",
      "authorship_tag": "ABX9TyO7RK6mQUwXDUePDL9NQ7/f",
      "include_colab_link": true
    },
    "kernelspec": {
      "name": "python3",
      "display_name": "Python 3"
    },
    "language_info": {
      "name": "python"
    }
  },
  "cells": [
    {
      "cell_type": "markdown",
      "metadata": {
        "id": "view-in-github",
        "colab_type": "text"
      },
      "source": [
        "<a href=\"https://colab.research.google.com/github/ChaesongYun/Tensorflow/blob/main/Tensorflow_%EA%B8%B0%EB%B3%B8.ipynb\" target=\"_parent\"><img src=\"https://colab.research.google.com/assets/colab-badge.svg\" alt=\"Open In Colab\"/></a>"
      ]
    },
    {
      "cell_type": "code",
      "source": [
        "import tensorflow.compat.v1 as tf\n",
        "tf.disable_v2_behavior()\n",
        "\n",
        "# xData: 일한 시간, yData: 매출\n",
        "\n",
        "xData = [1, 2, 3, 4, 5, 6, 7]\n",
        "yData = [25000, 55000, 75000, 110000, 128000, 155000, 180000]\n",
        "W = tf.Variable(tf.random_uniform([1], -100, 100)) # -100에서 100까지 랜덤한 값을 가진다\n",
        "b = tf.Variable(tf.random_uniform([1], -100, 100))\n",
        "X = tf.placeholder(tf.float32)\n",
        "Y = tf.placeholder(tf.float32)\n",
        "\n",
        "H = W * X + b\n",
        "cost = tf.reduce_mean(tf.square(H-Y))\n",
        "a = tf.Variable(0.01) # 경사하강에서 얼마나 하강을 할지?\n",
        "optimizer = tf.train.GradientDescentOptimizer(a)\n",
        "train = optimizer.minimize(cost) # 값을 최소화하는 방향으로 설정\n",
        "init = tf.global_variables_initializer()\n",
        "\n",
        "sess = tf.Session()\n",
        "sess.run(init)\n",
        "\n",
        "for i in range(5001):\n",
        "  sess.run(train, feed_dict={X: xData, Y: yData})\n",
        "  if i % 500 == 0:\n",
        "    print(i, sess.run(cost, feed_dict={X: xData, Y: yData}), sess.run(W), sess.run(b))\n",
        "\n",
        "print(sess.run(H, feed_dict={X: [8]}))"
      ],
      "metadata": {
        "colab": {
          "base_uri": "https://localhost:8080/"
        },
        "id": "sNRLeKgzastQ",
        "outputId": "b44fc804-9a7e-4813-ad66-8d609b21c2c2"
      },
      "execution_count": 12,
      "outputs": [
        {
          "output_type": "stream",
          "name": "stdout",
          "text": [
            "0 4629529000.0 [10330.131] [1991.9329]\n",
            "500 8685061.0 [25539.498] [1940.3981]\n",
            "1000 8633765.0 [25627.795] [1503.1567]\n",
            "1500 8632676.0 [25640.662] [1439.4426]\n",
            "2000 8632653.0 [25642.537] [1430.1544]\n",
            "2500 8632653.0 [25642.807] [1428.8156]\n",
            "3000 8632650.0 [25642.844] [1428.6323]\n",
            "3500 8632657.0 [25642.848] [1428.6133]\n",
            "4000 8632657.0 [25642.848] [1428.6133]\n",
            "4500 8632657.0 [25642.848] [1428.6133]\n",
            "5000 8632657.0 [25642.848] [1428.6133]\n",
            "[206571.39]\n"
          ]
        }
      ]
    },
    {
      "cell_type": "code",
      "source": [],
      "metadata": {
        "id": "BFA3JCDxcW13"
      },
      "execution_count": null,
      "outputs": []
    }
  ]
}