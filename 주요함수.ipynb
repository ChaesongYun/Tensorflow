{
  "nbformat": 4,
  "nbformat_minor": 0,
  "metadata": {
    "colab": {
      "provenance": [],
      "mount_file_id": "1Odo-Co3h0N8bxiUFV-u1BM7MRe-uMGOW",
      "authorship_tag": "ABX9TyPkbgWXUW7M7B1heC1HYChR",
      "include_colab_link": true
    },
    "kernelspec": {
      "name": "python3",
      "display_name": "Python 3"
    },
    "language_info": {
      "name": "python"
    }
  },
  "cells": [
    {
      "cell_type": "markdown",
      "metadata": {
        "id": "view-in-github",
        "colab_type": "text"
      },
      "source": [
        "<a href=\"https://colab.research.google.com/github/ChaesongYun/Tensorflow/blob/main/%EC%A3%BC%EC%9A%94%ED%95%A8%EC%88%98.ipynb\" target=\"_parent\"><img src=\"https://colab.research.google.com/assets/colab-badge.svg\" alt=\"Open In Colab\"/></a>"
      ]
    },
    {
      "cell_type": "code",
      "execution_count": 4,
      "metadata": {
        "colab": {
          "base_uri": "https://localhost:8080/"
        },
        "id": "biaMqDh0Bv8j",
        "outputId": "f0e77158-8815-495b-bf9a-e1d5a04fe411"
      },
      "outputs": [
        {
          "output_type": "execute_result",
          "data": {
            "text/plain": [
              "22"
            ]
          },
          "metadata": {},
          "execution_count": 4
        }
      ],
      "source": [
        "# tf.add: 덧셈 수행\n",
        "# tf.subtract: 뺄셈 수행\n",
        "# tf.multiply: 곱셈 수행\n",
        "# tf.truediv: 몫 구하기\n",
        "# tf.mod: 나머지 구하기\n",
        "# tf.abs: 절댓값 구하기\n",
        "\n",
        "import tensorflow.compat.v1 as tf\n",
        "tf.disable_v2_behavior()\n",
        "\n",
        "a = tf.constant(17)\n",
        "b = tf.constant(5)\n",
        "c = tf.add(a, b)\n",
        "\n",
        "sess = tf.Session()\n",
        "sess.run(c)\n",
        "\n",
        "# c = tf.subtract(a, b)\n",
        "# sess.run(c)"
      ]
    },
    {
      "cell_type": "code",
      "source": [
        "c = tf.multiply(a, b)\n",
        "sess.run(c)"
      ],
      "metadata": {
        "colab": {
          "base_uri": "https://localhost:8080/"
        },
        "id": "9Q2hwOrgCnX5",
        "outputId": "ca2c2957-082a-4b2b-c284-9e7702a57a90"
      },
      "execution_count": 6,
      "outputs": [
        {
          "output_type": "execute_result",
          "data": {
            "text/plain": [
              "85"
            ]
          },
          "metadata": {},
          "execution_count": 6
        }
      ]
    },
    {
      "cell_type": "code",
      "source": [
        "c = tf.truediv(a, b)\n",
        "sess.run(c)"
      ],
      "metadata": {
        "colab": {
          "base_uri": "https://localhost:8080/"
        },
        "id": "9CpexDGwCs4I",
        "outputId": "c876bf27-5d8d-4170-88db-ebe471f8fd1d"
      },
      "execution_count": 7,
      "outputs": [
        {
          "output_type": "execute_result",
          "data": {
            "text/plain": [
              "3.4"
            ]
          },
          "metadata": {},
          "execution_count": 7
        }
      ]
    },
    {
      "cell_type": "code",
      "source": [
        "c = tf.mod(a, b)\n",
        "sess.run(c)"
      ],
      "metadata": {
        "colab": {
          "base_uri": "https://localhost:8080/"
        },
        "id": "zq7p6WGoCvP1",
        "outputId": "49a12b0e-5ffd-4d3b-b0a6-30d3ae0f5049"
      },
      "execution_count": 8,
      "outputs": [
        {
          "output_type": "execute_result",
          "data": {
            "text/plain": [
              "2"
            ]
          },
          "metadata": {},
          "execution_count": 8
        }
      ]
    },
    {
      "cell_type": "code",
      "source": [
        "c = tf.abs(-a)\n",
        "sess.run(c)"
      ],
      "metadata": {
        "colab": {
          "base_uri": "https://localhost:8080/"
        },
        "id": "9y9rsSC4CxyB",
        "outputId": "8b05272b-5d21-4640-c7f5-d25aa6931312"
      },
      "execution_count": 10,
      "outputs": [
        {
          "output_type": "execute_result",
          "data": {
            "text/plain": [
              "17"
            ]
          },
          "metadata": {},
          "execution_count": 10
        }
      ]
    },
    {
      "cell_type": "code",
      "source": [
        "# tf.negative: 음수 반환\n",
        "# tf.sign: 부호 반환(음수: -1, 양수: 1, 0: 0)\n",
        "# tf.square: 제곱 수행\n",
        "# tf.sqrt: 제곱근 반환\n",
        "# tf.pow: 거듭제곱 수행\n",
        "# tf.maximum: 더 큰 값 반환\n",
        "# tf.minimum: 더 작은 값 반환\n",
        "# tf.exp: 지수 값 계산\n",
        "# tf.log: 로그 값 계산\n",
        "\n",
        "a = tf.constant(17.5)\n",
        "b = tf.constant(5.0)"
      ],
      "metadata": {
        "id": "RXdKW5SXC5HY"
      },
      "execution_count": 12,
      "outputs": []
    },
    {
      "cell_type": "code",
      "source": [
        "c = tf.negative(a)\n",
        "sess.run(c)"
      ],
      "metadata": {
        "colab": {
          "base_uri": "https://localhost:8080/"
        },
        "id": "-4xA0PapDTvn",
        "outputId": "d90499f3-0ae2-4733-86ac-bbdf9438ae10"
      },
      "execution_count": 13,
      "outputs": [
        {
          "output_type": "execute_result",
          "data": {
            "text/plain": [
              "-17.5"
            ]
          },
          "metadata": {},
          "execution_count": 13
        }
      ]
    },
    {
      "cell_type": "code",
      "source": [
        "c = tf.sign(a)\n",
        "sess.run(c)"
      ],
      "metadata": {
        "colab": {
          "base_uri": "https://localhost:8080/"
        },
        "id": "7aatfwGZDV6j",
        "outputId": "22555f54-fcf4-465e-b569-c1c2fcdb77cc"
      },
      "execution_count": 14,
      "outputs": [
        {
          "output_type": "execute_result",
          "data": {
            "text/plain": [
              "1.0"
            ]
          },
          "metadata": {},
          "execution_count": 14
        }
      ]
    },
    {
      "cell_type": "code",
      "source": [
        "c = tf.square(a)\n",
        "sess.run(c)"
      ],
      "metadata": {
        "colab": {
          "base_uri": "https://localhost:8080/"
        },
        "id": "6mA5nEuBDYNU",
        "outputId": "658d8e51-fa89-4fa6-8650-0648c2e2252a"
      },
      "execution_count": 15,
      "outputs": [
        {
          "output_type": "execute_result",
          "data": {
            "text/plain": [
              "306.25"
            ]
          },
          "metadata": {},
          "execution_count": 15
        }
      ]
    },
    {
      "cell_type": "code",
      "source": [
        "c = tf.pow(b, 4)\n",
        "sess.run(c)"
      ],
      "metadata": {
        "colab": {
          "base_uri": "https://localhost:8080/"
        },
        "id": "lkwSvV21Dngy",
        "outputId": "3aed6230-bb76-479b-d898-a387d9bc8d18"
      },
      "execution_count": 17,
      "outputs": [
        {
          "output_type": "execute_result",
          "data": {
            "text/plain": [
              "625.0"
            ]
          },
          "metadata": {},
          "execution_count": 17
        }
      ]
    },
    {
      "cell_type": "code",
      "source": [
        "c = tf.maximum(a, b)\n",
        "sess.run(c)"
      ],
      "metadata": {
        "colab": {
          "base_uri": "https://localhost:8080/"
        },
        "id": "KqmmTC7XDpNu",
        "outputId": "0f0e0015-957e-4b4f-b8cd-d19d2ee60cf1"
      },
      "execution_count": 18,
      "outputs": [
        {
          "output_type": "execute_result",
          "data": {
            "text/plain": [
              "17.5"
            ]
          },
          "metadata": {},
          "execution_count": 18
        }
      ]
    },
    {
      "cell_type": "code",
      "source": [
        "c = tf.minimum(a, b)\n",
        "sess.run(c)"
      ],
      "metadata": {
        "colab": {
          "base_uri": "https://localhost:8080/"
        },
        "id": "D0Lq1hAJDwtW",
        "outputId": "1a91e3fa-8822-4a47-943f-25a6c5dec3e4"
      },
      "execution_count": 19,
      "outputs": [
        {
          "output_type": "execute_result",
          "data": {
            "text/plain": [
              "5.0"
            ]
          },
          "metadata": {},
          "execution_count": 19
        }
      ]
    },
    {
      "cell_type": "code",
      "source": [
        "c = tf.exp(b)\n",
        "sess.run(c)"
      ],
      "metadata": {
        "colab": {
          "base_uri": "https://localhost:8080/"
        },
        "id": "ZwdN2B6MDypH",
        "outputId": "4b73ee1c-f466-4a74-90b2-96c47229ede7"
      },
      "execution_count": 20,
      "outputs": [
        {
          "output_type": "execute_result",
          "data": {
            "text/plain": [
              "148.41316"
            ]
          },
          "metadata": {},
          "execution_count": 20
        }
      ]
    },
    {
      "cell_type": "code",
      "source": [
        "c = tf.log(b)\n",
        "sess.run(c)"
      ],
      "metadata": {
        "colab": {
          "base_uri": "https://localhost:8080/"
        },
        "id": "OtDZrg-0D15Q",
        "outputId": "89f24c08-6170-4132-e819-fa7b28519790"
      },
      "execution_count": 22,
      "outputs": [
        {
          "output_type": "execute_result",
          "data": {
            "text/plain": [
              "1.609438"
            ]
          },
          "metadata": {},
          "execution_count": 22
        }
      ]
    },
    {
      "cell_type": "code",
      "source": [
        "c = tf.sin(b)\n",
        "sess.run(c)"
      ],
      "metadata": {
        "colab": {
          "base_uri": "https://localhost:8080/"
        },
        "id": "P0zNXtrSD65m",
        "outputId": "fcaad9ef-3b7b-4724-a713-04521731ee0f"
      },
      "execution_count": 23,
      "outputs": [
        {
          "output_type": "execute_result",
          "data": {
            "text/plain": [
              "-0.9589243"
            ]
          },
          "metadata": {},
          "execution_count": 23
        }
      ]
    },
    {
      "cell_type": "code",
      "source": [
        "c = tf.cos(b)\n",
        "sess.run(b)"
      ],
      "metadata": {
        "id": "C7PiinQPD-jQ",
        "outputId": "0eb1df53-7652-457d-cd83-63fdf43c0734",
        "colab": {
          "base_uri": "https://localhost:8080/"
        }
      },
      "execution_count": 24,
      "outputs": [
        {
          "output_type": "execute_result",
          "data": {
            "text/plain": [
              "5.0"
            ]
          },
          "metadata": {},
          "execution_count": 24
        }
      ]
    }
  ]
}