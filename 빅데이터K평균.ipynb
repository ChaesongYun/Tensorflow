{
  "nbformat": 4,
  "nbformat_minor": 0,
  "metadata": {
    "colab": {
      "provenance": [],
      "authorship_tag": "ABX9TyNnDNgJ5VeqlsHN85G5rQpk",
      "include_colab_link": true
    },
    "kernelspec": {
      "name": "python3",
      "display_name": "Python 3"
    },
    "language_info": {
      "name": "python"
    }
  },
  "cells": [
    {
      "cell_type": "markdown",
      "metadata": {
        "id": "view-in-github",
        "colab_type": "text"
      },
      "source": [
        "<a href=\"https://colab.research.google.com/github/ChaesongYun/Tensorflow/blob/main/%EB%B9%85%EB%8D%B0%EC%9D%B4%ED%84%B0K%ED%8F%89%EA%B7%A0.ipynb\" target=\"_parent\"><img src=\"https://colab.research.google.com/assets/colab-badge.svg\" alt=\"Open In Colab\"/></a>"
      ]
    },
    {
      "cell_type": "markdown",
      "source": [
        "# 클러스터링: 여러 개의 데이터가 있을 때 데이터를 군집화하는 것\n",
        "- 비슷한 데이터끼리 묶으면 관리하기가 쉽다는 장점이 있음\n",
        "- 비지도학습(Unsupervised Learning)\n",
        "<br>\n",
        "<br>\n",
        "\n",
        "## 사전준비\n",
        "- 클러스터링을 수행할 데이터의 주제를 결정(수학학원에서 학생들의 성적에 따라 반을 구분하기)\n",
        "- 얼마나 많은 클러스터를 만들지 고민(고급반, 중급반, 초급반)\n",
        "- 데이터를 준비(데이터가 정확할수록 유리)\n",
        "- 클러스터링을 수행하기 위한 방법은 다양함(무작위 중심(Centroid)값 선택, K-means++)\n",
        "<br>\n",
        "<br>\n",
        "\n",
        "## K-means 수행 과정\n",
        "1. 중심(Centroid)에 가까운 데이터를 클러스터에 포함시킨다\n",
        "2. 중심(Centroid)을 클러스터의 중앙으로 이동시킨다\n",
        "- 위 두 과정을 반복 수행한다-> 결과적으로 완전하게 군집화된 클러스터들을 얻을 수 있다\n",
        "- 더이상 중심(Centroid)의 위치가 변하지 않을 때까지 반복한다"
      ],
      "metadata": {
        "id": "JYs94i0-JOa8"
      }
    }
  ]
}