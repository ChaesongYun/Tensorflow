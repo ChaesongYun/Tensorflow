{
  "nbformat": 4,
  "nbformat_minor": 0,
  "metadata": {
    "colab": {
      "provenance": [],
      "mount_file_id": "1xj_dJ0lxeNl7ksHpeqsXqI2irQqHlLNc",
      "authorship_tag": "ABX9TyOir7neVXrT7Nz3JxLgpPuH",
      "include_colab_link": true
    },
    "kernelspec": {
      "name": "python3",
      "display_name": "Python 3"
    },
    "language_info": {
      "name": "python"
    }
  },
  "cells": [
    {
      "cell_type": "markdown",
      "metadata": {
        "id": "view-in-github",
        "colab_type": "text"
      },
      "source": [
        "<a href=\"https://colab.research.google.com/github/ChaesongYun/Tensorflow/blob/main/%EC%95%84%ED%82%A4%ED%85%8D%EC%B2%98.ipynb\" target=\"_parent\"><img src=\"https://colab.research.google.com/assets/colab-badge.svg\" alt=\"Open In Colab\"/></a>"
      ]
    },
    {
      "cell_type": "markdown",
      "source": [
        "## 클라이언트(Client)\n",
        "- 컴퓨터 연산 과정을 데이터 플로우 그래프 형태로 표현\n",
        "- 세션(Sessionn)을 이용해 한 번의 그래프 실행 시작을 알릴 수 있다\n",
        "<br>\n",
        "<br>\n",
        "\n",
        "## 분산된 마스터(Distributed Master)\n",
        "- 세션의 시작을 위한 인수(Argument)로 정의된 그래프에서 부분 그래프를 정리\n",
        "- 하위 그래프를 다른 프로세스와 장치에서 실행되는 여러 조각으로 분할\n",
        "- 그래프 조각이 처리될 수 있도록 작업자 서비스에게 분배\n",
        "- 작업자 서비스가 실행할 그래프 조각을 초기화\n",
        "<br>\n",
        "<br>\n",
        "\n",
        "## 작업자 서비스(Worker Services)\n",
        "- 특정 하드웨어(CPU, GPU)에게 적절한 커널 기능을 이용하는 그래프 작업의 실행을 관리한다\n",
        "- 그래프가 효율적으로 동작하도록 하기 위해서 커널 기능을 잘 이용하는 것이 관건\n",
        "- 다른 작업자 서비스와 실행 결과를 주고 받는다\n",
        "<br>\n",
        "<br>\n",
        "\n",
        "## 커널 기능(Kerner Implementations)\n",
        "- 개별적인 그래프 작업을 처리\n",
        "- 실질적으로 컴퓨터가 연산을 처리하는 부분\n",
        "<br>\n",
        "<br>\n"
      ],
      "metadata": {
        "id": "3964yv4sGhk2"
      }
    }
  ]
}