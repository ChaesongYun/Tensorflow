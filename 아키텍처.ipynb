{
  "nbformat": 4,
  "nbformat_minor": 0,
  "metadata": {
    "colab": {
      "provenance": [],
      "mount_file_id": "1xj_dJ0lxeNl7ksHpeqsXqI2irQqHlLNc",
      "authorship_tag": "ABX9TyP3fMraTv7If5SfHD83/3w+",
      "include_colab_link": true
    },
    "kernelspec": {
      "name": "python3",
      "display_name": "Python 3"
    },
    "language_info": {
      "name": "python"
    }
  },
  "cells": [
    {
      "cell_type": "markdown",
      "metadata": {
        "id": "view-in-github",
        "colab_type": "text"
      },
      "source": [
        "<a href=\"https://colab.research.google.com/github/ChaesongYun/Tensorflow/blob/main/%EC%95%84%ED%82%A4%ED%85%8D%EC%B2%98.ipynb\" target=\"_parent\"><img src=\"https://colab.research.google.com/assets/colab-badge.svg\" alt=\"Open In Colab\"/></a>"
      ]
    },
    {
      "cell_type": "markdown",
      "source": [
        "## 클라이언트(Client)\n",
        "- 컴퓨터 연산 과정을 데이터 플로우 그래프 형태로 표현\n",
        "- 세션(Sessionn)을 이용해 한 번의 그래프 실행 시작을 알릴 수 있다\n",
        "<br>\n",
        "<br>\n",
        "\n",
        "## 분산된 마스터(Distributed Master)\n",
        "- 세션의 시작을 위한 인수(Argument)로 정의된 그래프에서 부분 그래프를 정리\n",
        "- 하위 그래프를 다른 프로세스와 장치에서 실행되는 여러 조각으로 분할\n",
        "- 그래프 조각이 처리될 수 있도록 작업자 서비스에게 분배\n",
        "- 작업자 서비스가 실행할 그래프 조각을 초기화\n",
        "<br>\n",
        "<br>\n",
        "\n",
        "## 작업자 서비스(Worker Services)\n",
        "- 특정 하드웨어(CPU, GPU)에게 적절한 커널 기능을 이용하는 그래프 작업의 실행을 관리한다\n",
        "- 그래프가 효율적으로 동작하도록 하기 위해서 커널 기능을 잘 이용하는 것이 관건\n",
        "- 다른 작업자 서비스와 실행 결과를 주고 받는다\n",
        "<br>\n",
        "<br>\n",
        "\n",
        "## 커널 기능(Kerner Implementations)\n",
        "- 개별적인 그래프 작업을 처리\n",
        "- 실질적으로 컴퓨터가 연산을 처리하는 부분\n",
        "<br>\n",
        "<br>\n",
        "\n",
        "## 정리\n",
        "- 클라이언트로 C++, Python이 사용되고 다양한 학습 모델에 관한 수식을 작성하여 프로그램을 실행한다\n",
        "- 이후 마스터는 그래프를 분하라여 각 장치에 대한 그래프 조각을 얻는다\n",
        "- 그리고 이러한 조각들을 이후 단계에서 재사용할 수 있도록 캐시한다\n",
        "- 마스터는 단계에 대한 전체적인 계산을 총괄하고 최적화를 적용한다\n",
        "- 이후에 마스터로부터 분할된 그래프를 각 작업자(Worker)가 처리하게 된다"
      ],
      "metadata": {
        "id": "3964yv4sGhk2"
      }
    }
  ]
}