{
  "nbformat": 4,
  "nbformat_minor": 0,
  "metadata": {
    "colab": {
      "provenance": [],
      "mount_file_id": "1rj-haHw3BASe9ynMW1hXq268cWW6RyBZ",
      "authorship_tag": "ABX9TyPpETGd4XYE0GAXMTlCervk",
      "include_colab_link": true
    },
    "kernelspec": {
      "name": "python3",
      "display_name": "Python 3"
    },
    "language_info": {
      "name": "python"
    }
  },
  "cells": [
    {
      "cell_type": "markdown",
      "metadata": {
        "id": "view-in-github",
        "colab_type": "text"
      },
      "source": [
        "<a href=\"https://colab.research.google.com/github/ChaesongYun/Tensorflow/blob/main/%EB%B3%80%EC%88%98%EC%99%80_%EC%83%81%EC%88%98.ipynb\" target=\"_parent\"><img src=\"https://colab.research.google.com/assets/colab-badge.svg\" alt=\"Open In Colab\"/></a>"
      ]
    },
    {
      "cell_type": "code",
      "execution_count": 3,
      "metadata": {
        "id": "Zhe6PiuZfT5q"
      },
      "outputs": [],
      "source": [
        "## 상수\n",
        "# 변하지 않는 수\n",
        "# constant() 함수를 이용해 정의\n",
        "\n",
        "import tensorflow as tf"
      ]
    },
    {
      "cell_type": "code",
      "source": [
        "from google.colab import drive\n",
        "drive.mount('/content/drive')"
      ],
      "metadata": {
        "colab": {
          "base_uri": "https://localhost:8080/"
        },
        "id": "3CiMd_OQ6iEk",
        "outputId": "dfc70efe-dc0c-4740-f8e8-92ae8f51754e"
      },
      "execution_count": 1,
      "outputs": [
        {
          "output_type": "stream",
          "name": "stdout",
          "text": [
            "Drive already mounted at /content/drive; to attempt to forcibly remount, call drive.mount(\"/content/drive\", force_remount=True).\n"
          ]
        }
      ]
    },
    {
      "cell_type": "code",
      "source": [
        "a = tf.constant(1)\n",
        "# tensor라는 자료형으로 반환\n",
        "# 1이 담긴 배열이라고 생각하면 됨\n",
        "b = tf.constant(2)\n",
        "c = tf.add(a, b)\n",
        "tf.print(c)\n"
      ],
      "metadata": {
        "id": "44ErNNsUgU7S",
        "colab": {
          "base_uri": "https://localhost:8080/"
        },
        "outputId": "4b8c43a4-5ed4-430a-9f5a-e6122691c165"
      },
      "execution_count": 6,
      "outputs": [
        {
          "output_type": "stream",
          "name": "stdout",
          "text": [
            "3\n"
          ]
        }
      ]
    },
    {
      "cell_type": "code",
      "source": [
        "a = tf.Variable(5)\n",
        "b = tf.Variable(6)\n",
        "\n",
        "tf.print(a * b)"
      ],
      "metadata": {
        "colab": {
          "base_uri": "https://localhost:8080/"
        },
        "id": "kZ3di9OL7XVa",
        "outputId": "7280e081-291b-4b28-d2d0-6bf25314a77a"
      },
      "execution_count": 15,
      "outputs": [
        {
          "output_type": "stream",
          "name": "stdout",
          "text": [
            "30\n"
          ]
        }
      ]
    },
    {
      "cell_type": "code",
      "source": [
        "a = tf.Variable(15)\n",
        "# initializer 필요없음\n",
        "tf.print(a * b)"
      ],
      "metadata": {
        "colab": {
          "base_uri": "https://localhost:8080/"
        },
        "id": "TaVHzYKT9TYL",
        "outputId": "71235b69-1f9a-4908-c61c-ea328389408d"
      },
      "execution_count": 18,
      "outputs": [
        {
          "output_type": "stream",
          "name": "stdout",
          "text": [
            "90\n"
          ]
        }
      ]
    },
    {
      "cell_type": "code",
      "source": [],
      "metadata": {
        "id": "rwATajfv-tGa"
      },
      "execution_count": null,
      "outputs": []
    }
  ]
}